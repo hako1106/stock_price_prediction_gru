{
 "cells": [
  {
   "cell_type": "code",
   "execution_count": null,
   "id": "8ae99ed3",
   "metadata": {},
   "outputs": [],
   "source": [
    "from src.data_crawler import crawl_stock_data, update_stock_data"
   ]
  },
  {
   "cell_type": "code",
   "execution_count": 8,
   "id": "214ca9f4",
   "metadata": {},
   "outputs": [
    {
     "name": "stdout",
     "output_type": "stream",
     "text": [
      "Downloading TSLA data from 2020-01-01 to 2024-02-01...\n"
     ]
    },
    {
     "name": "stderr",
     "output_type": "stream",
     "text": [
      "[*********************100%***********************]  1 of 1 completed"
     ]
    },
    {
     "name": "stdout",
     "output_type": "stream",
     "text": [
      "[Saved] Data for TSLA saved to data/daily_updates/TSLA.csv\n",
      "        Date      Close       High        Low       Open     Volume\n",
      "0 2020-01-02  28.684000  28.713333  28.114000  28.299999  142981500\n",
      "1 2020-01-03  29.534000  30.266666  29.128000  29.366667  266677500\n",
      "2 2020-01-06  30.102667  30.104000  29.333332  29.364668  151995000\n",
      "3 2020-01-07  31.270666  31.441999  30.224001  30.760000  268231500\n",
      "4 2020-01-08  32.809334  33.232666  31.215334  31.580000  467164500\n"
     ]
    },
    {
     "name": "stderr",
     "output_type": "stream",
     "text": [
      "\n"
     ]
    }
   ],
   "source": [
    "# Example usage\n",
    "ticker = \"TSLA\"\n",
    "data_path = f\"data/daily_updates/{ticker}.csv\"\n",
    "\n",
    "# Crawl new data if needed\n",
    "df_crawled = crawl_stock_data(ticker=ticker, start=\"2020-01-01\", end=\"2024-02-01\", output_path=data_path)\n",
    "print(df_crawled.head())"
   ]
  },
  {
   "cell_type": "code",
   "execution_count": 11,
   "id": "fa4dfa13",
   "metadata": {},
   "outputs": [
    {
     "name": "stdout",
     "output_type": "stream",
     "text": [
      "Data is already up to date.\n",
      "           Date       Close        High         Low        Open     Volume\n",
      "1353 2025-05-21  334.619995  347.350006  332.200012  344.429993  102354800\n",
      "1354 2025-05-22  341.040009  347.269989  331.390015  331.899994   97113400\n",
      "1355 2025-05-23  339.339996  343.179993  333.209991  337.920013   84654800\n",
      "1356 2025-05-27  362.890015  363.790009  347.320007  347.350006  120146400\n",
      "1357 2025-05-28  356.899994  365.000000  355.910004  364.839996   90186700\n"
     ]
    }
   ],
   "source": [
    "\n",
    "df = update_stock_data(ticker=ticker, file_path=data_path, window_size=60)\n",
    "print(df.tail())"
   ]
  }
 ],
 "metadata": {
  "kernelspec": {
   "display_name": "stock_price_prediction_gru",
   "language": "python",
   "name": "python3"
  },
  "language_info": {
   "codemirror_mode": {
    "name": "ipython",
    "version": 3
   },
   "file_extension": ".py",
   "mimetype": "text/x-python",
   "name": "python",
   "nbconvert_exporter": "python",
   "pygments_lexer": "ipython3",
   "version": "3.12.9"
  }
 },
 "nbformat": 4,
 "nbformat_minor": 5
}
