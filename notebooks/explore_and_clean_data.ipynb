{
 "cells": [
  {
   "cell_type": "code",
   "execution_count": 20,
   "id": "1921165d",
   "metadata": {},
   "outputs": [],
   "source": [
    "import pandas as pd\n",
    "import matplotlib.pyplot as plt\n",
    "import seaborn as sns"
   ]
  },
  {
   "cell_type": "code",
   "execution_count": 21,
   "id": "0ece8419",
   "metadata": {},
   "outputs": [
    {
     "data": {
      "application/vnd.microsoft.datawrangler.viewer.v0+json": {
       "columns": [
        {
         "name": "index",
         "rawType": "int64",
         "type": "integer"
        },
        {
         "name": "Price",
         "rawType": "object",
         "type": "string"
        },
        {
         "name": "Close",
         "rawType": "object",
         "type": "unknown"
        },
        {
         "name": "High",
         "rawType": "object",
         "type": "unknown"
        },
        {
         "name": "Low",
         "rawType": "object",
         "type": "unknown"
        },
        {
         "name": "Open",
         "rawType": "object",
         "type": "unknown"
        },
        {
         "name": "Volume",
         "rawType": "object",
         "type": "unknown"
        }
       ],
       "ref": "526b7d4d-9a8e-45a7-b43c-ad891cc3dc64",
       "rows": [
        [
         "0",
         "Ticker",
         "TSLA",
         "TSLA",
         "TSLA",
         "TSLA",
         "TSLA"
        ],
        [
         "1",
         "Date",
         null,
         null,
         null,
         null,
         null
        ],
        [
         "2",
         "2020-01-02",
         "28.68400001525879",
         "28.713333129882812",
         "28.11400032043457",
         "28.299999237060547",
         "142981500"
        ],
        [
         "3",
         "2020-01-03",
         "29.534000396728516",
         "30.266666412353516",
         "29.128000259399414",
         "29.366666793823242",
         "266677500"
        ],
        [
         "4",
         "2020-01-06",
         "30.1026668548584",
         "30.104000091552734",
         "29.333332061767578",
         "29.364667892456055",
         "151995000"
        ],
        [
         "5",
         "2020-01-07",
         "31.270666122436523",
         "31.441999435424805",
         "30.224000930786133",
         "30.760000228881836",
         "268231500"
        ],
        [
         "6",
         "2020-01-08",
         "32.80933380126953",
         "33.232666015625",
         "31.215333938598633",
         "31.579999923706055",
         "467164500"
        ],
        [
         "7",
         "2020-01-09",
         "32.089332580566406",
         "33.253334045410156",
         "31.524667739868164",
         "33.13999938964844",
         "426606000"
        ],
        [
         "8",
         "2020-01-10",
         "31.876667022705078",
         "32.3293342590332",
         "31.579999923706055",
         "32.11933135986328",
         "194392500"
        ],
        [
         "9",
         "2020-01-13",
         "34.990665435791016",
         "35.04199981689453",
         "32.79999923706055",
         "32.900001525878906",
         "397764000"
        ],
        [
         "10",
         "2020-01-14",
         "35.861331939697266",
         "36.49399948120117",
         "34.99333190917969",
         "36.284000396728516",
         "434943000"
        ],
        [
         "11",
         "2020-01-15",
         "34.56666564941406",
         "35.85599899291992",
         "34.452667236328125",
         "35.31733322143555",
         "260532000"
        ],
        [
         "12",
         "2020-01-16",
         "34.232666015625",
         "34.297332763671875",
         "32.81133270263672",
         "32.91666793823242",
         "326050500"
        ],
        [
         "13",
         "2020-01-17",
         "34.03333282470703",
         "34.37799835205078",
         "33.54399871826172",
         "33.840667724609375",
         "204436500"
        ],
        [
         "14",
         "2020-01-21",
         "36.47999954223633",
         "36.571998596191406",
         "35.227333068847656",
         "35.349998474121094",
         "267052500"
        ],
        [
         "15",
         "2020-01-22",
         "37.97066879272461",
         "39.633331298828125",
         "37.27333450317383",
         "38.125999450683594",
         "470535000"
        ],
        [
         "16",
         "2020-01-23",
         "38.14666748046875",
         "38.79999923706055",
         "37.040000915527344",
         "37.616668701171875",
         "294765000"
        ],
        [
         "17",
         "2020-01-24",
         "37.654666900634766",
         "38.25733184814453",
         "36.95066833496094",
         "38.04199981689453",
         "215304000"
        ],
        [
         "18",
         "2020-01-27",
         "37.201332092285156",
         "37.62933349609375",
         "35.95199966430664",
         "36.132667541503906",
         "204121500"
        ],
        [
         "19",
         "2020-01-28",
         "37.793331146240234",
         "38.45399856567383",
         "37.2053337097168",
         "37.89933395385742",
         "176827500"
        ],
        [
         "20",
         "2020-01-29",
         "38.732666015625",
         "39.31999969482422",
         "37.82866668701172",
         "38.37933349609375",
         "267022500"
        ],
        [
         "21",
         "2020-01-30",
         "42.72066879272461",
         "43.391998291015625",
         "41.20000076293945",
         "42.16133117675781",
         "435085500"
        ],
        [
         "22",
         "2020-01-31",
         "43.371334075927734",
         "43.53333282470703",
         "42.167999267578125",
         "42.66666793823242",
         "235789500"
        ],
        [
         "23",
         "2020-02-03",
         "52.0",
         "52.409332275390625",
         "44.90133285522461",
         "44.91266632080078",
         "705975000"
        ],
        [
         "24",
         "2020-02-04",
         "59.137332916259766",
         "64.59933471679688",
         "55.59199905395508",
         "58.86399841308594",
         "914082000"
        ],
        [
         "25",
         "2020-02-05",
         "48.97999954223633",
         "56.39866638183594",
         "46.94066619873047",
         "54.88399887084961",
         "726357000"
        ],
        [
         "26",
         "2020-02-06",
         "49.930667877197266",
         "53.05533218383789",
         "45.79999923706055",
         "46.66133117675781",
         "598212000"
        ],
        [
         "27",
         "2020-02-07",
         "49.871334075927734",
         "51.31666564941406",
         "48.66666793823242",
         "48.70333480834961",
         "255952500"
        ],
        [
         "28",
         "2020-02-10",
         "51.41866683959961",
         "54.66600036621094",
         "50.15999984741211",
         "53.33333206176758",
         "370338000"
        ],
        [
         "29",
         "2020-02-11",
         "51.62533187866211",
         "52.23400115966797",
         "50.53333282470703",
         "51.25266647338867",
         "175462500"
        ],
        [
         "30",
         "2020-02-12",
         "51.15266799926758",
         "52.650001525878906",
         "50.891334533691406",
         "51.858001708984375",
         "180337500"
        ],
        [
         "31",
         "2020-02-13",
         "53.599998474121094",
         "54.53333282470703",
         "49.0",
         "49.45600128173828",
         "394339500"
        ],
        [
         "32",
         "2020-02-14",
         "53.33533477783203",
         "54.198001861572266",
         "52.366668701171875",
         "52.4813346862793",
         "235405500"
        ],
        [
         "33",
         "2020-02-18",
         "57.22666549682617",
         "57.33333206176758",
         "55.490665435791016",
         "56.106666564941406",
         "245725500"
        ],
        [
         "34",
         "2020-02-19",
         "61.16133117675781",
         "62.98533248901367",
         "60.06800079345703",
         "61.56666564941406",
         "381345000"
        ],
        [
         "35",
         "2020-02-20",
         "59.96066665649414",
         "60.79999923706055",
         "57.3293342590332",
         "60.79666519165039",
         "264523500"
        ],
        [
         "36",
         "2020-02-21",
         "60.06666564941406",
         "60.87066650390625",
         "58.6966667175293",
         "60.46533203125",
         "214722000"
        ],
        [
         "37",
         "2020-02-24",
         "55.58599853515625",
         "57.56666564941406",
         "54.813331604003906",
         "55.93333435058594",
         "227883000"
        ],
        [
         "38",
         "2020-02-25",
         "53.32733154296875",
         "57.106666564941406",
         "52.46666717529297",
         "56.599998474121094",
         "259357500"
        ],
        [
         "39",
         "2020-02-26",
         "51.91999816894531",
         "54.22066879272461",
         "51.740665435791016",
         "52.16666793823242",
         "211282500"
        ],
        [
         "40",
         "2020-02-27",
         "45.266666412353516",
         "49.31800079345703",
         "44.599998474121094",
         "48.66666793823242",
         "364158000"
        ],
        [
         "41",
         "2020-02-28",
         "44.53266525268555",
         "46.03466796875",
         "40.768001556396484",
         "41.97999954223633",
         "363343500"
        ],
        [
         "42",
         "2020-03-02",
         "49.574668884277344",
         "49.5793342590332",
         "45.77799987792969",
         "47.41733169555664",
         "302925000"
        ],
        [
         "43",
         "2020-03-03",
         "49.70066833496094",
         "53.798667907714844",
         "47.740665435791016",
         "53.66666793823242",
         "386760000"
        ],
        [
         "44",
         "2020-03-04",
         "49.96666717529297",
         "51.10133361816406",
         "48.31533432006836",
         "50.930667877197266",
         "225735000"
        ],
        [
         "45",
         "2020-03-05",
         "48.30266571044922",
         "49.71666717529297",
         "47.871334075927734",
         "48.2513313293457",
         "162790500"
        ],
        [
         "46",
         "2020-03-06",
         "46.89866638183594",
         "47.133331298828125",
         "45.61800003051758",
         "46.0",
         "189943500"
        ],
        [
         "47",
         "2020-03-09",
         "40.53333282470703",
         "44.20000076293945",
         "40.33333206176758",
         "40.35933303833008",
         "256105500"
        ],
        [
         "48",
         "2020-03-10",
         "43.02199935913086",
         "44.53333282470703",
         "40.53333282470703",
         "43.96200180053711",
         "233916000"
        ],
        [
         "49",
         "2020-03-11",
         "42.28200149536133",
         "43.571998596191406",
         "40.866668701171875",
         "42.68000030517578",
         "199837500"
        ]
       ],
       "shape": {
        "columns": 6,
        "rows": 1358
       }
      },
      "text/html": [
       "<div>\n",
       "<style scoped>\n",
       "    .dataframe tbody tr th:only-of-type {\n",
       "        vertical-align: middle;\n",
       "    }\n",
       "\n",
       "    .dataframe tbody tr th {\n",
       "        vertical-align: top;\n",
       "    }\n",
       "\n",
       "    .dataframe thead th {\n",
       "        text-align: right;\n",
       "    }\n",
       "</style>\n",
       "<table border=\"1\" class=\"dataframe\">\n",
       "  <thead>\n",
       "    <tr style=\"text-align: right;\">\n",
       "      <th></th>\n",
       "      <th>Price</th>\n",
       "      <th>Close</th>\n",
       "      <th>High</th>\n",
       "      <th>Low</th>\n",
       "      <th>Open</th>\n",
       "      <th>Volume</th>\n",
       "    </tr>\n",
       "  </thead>\n",
       "  <tbody>\n",
       "    <tr>\n",
       "      <th>0</th>\n",
       "      <td>Ticker</td>\n",
       "      <td>TSLA</td>\n",
       "      <td>TSLA</td>\n",
       "      <td>TSLA</td>\n",
       "      <td>TSLA</td>\n",
       "      <td>TSLA</td>\n",
       "    </tr>\n",
       "    <tr>\n",
       "      <th>1</th>\n",
       "      <td>Date</td>\n",
       "      <td>NaN</td>\n",
       "      <td>NaN</td>\n",
       "      <td>NaN</td>\n",
       "      <td>NaN</td>\n",
       "      <td>NaN</td>\n",
       "    </tr>\n",
       "    <tr>\n",
       "      <th>2</th>\n",
       "      <td>2020-01-02</td>\n",
       "      <td>28.68400001525879</td>\n",
       "      <td>28.713333129882812</td>\n",
       "      <td>28.11400032043457</td>\n",
       "      <td>28.299999237060547</td>\n",
       "      <td>142981500</td>\n",
       "    </tr>\n",
       "    <tr>\n",
       "      <th>3</th>\n",
       "      <td>2020-01-03</td>\n",
       "      <td>29.534000396728516</td>\n",
       "      <td>30.266666412353516</td>\n",
       "      <td>29.128000259399414</td>\n",
       "      <td>29.366666793823242</td>\n",
       "      <td>266677500</td>\n",
       "    </tr>\n",
       "    <tr>\n",
       "      <th>4</th>\n",
       "      <td>2020-01-06</td>\n",
       "      <td>30.1026668548584</td>\n",
       "      <td>30.104000091552734</td>\n",
       "      <td>29.333332061767578</td>\n",
       "      <td>29.364667892456055</td>\n",
       "      <td>151995000</td>\n",
       "    </tr>\n",
       "    <tr>\n",
       "      <th>...</th>\n",
       "      <td>...</td>\n",
       "      <td>...</td>\n",
       "      <td>...</td>\n",
       "      <td>...</td>\n",
       "      <td>...</td>\n",
       "      <td>...</td>\n",
       "    </tr>\n",
       "    <tr>\n",
       "      <th>1353</th>\n",
       "      <td>2025-05-19</td>\n",
       "      <td>342.0899963378906</td>\n",
       "      <td>343.0</td>\n",
       "      <td>333.3699951171875</td>\n",
       "      <td>336.29998779296875</td>\n",
       "      <td>88869900</td>\n",
       "    </tr>\n",
       "    <tr>\n",
       "      <th>1354</th>\n",
       "      <td>2025-05-20</td>\n",
       "      <td>343.82000732421875</td>\n",
       "      <td>354.989990234375</td>\n",
       "      <td>341.6300048828125</td>\n",
       "      <td>347.8699951171875</td>\n",
       "      <td>131715500</td>\n",
       "    </tr>\n",
       "    <tr>\n",
       "      <th>1355</th>\n",
       "      <td>2025-05-21</td>\n",
       "      <td>334.6199951171875</td>\n",
       "      <td>347.3500061035156</td>\n",
       "      <td>332.20001220703125</td>\n",
       "      <td>344.42999267578125</td>\n",
       "      <td>102354800</td>\n",
       "    </tr>\n",
       "    <tr>\n",
       "      <th>1356</th>\n",
       "      <td>2025-05-22</td>\n",
       "      <td>341.0400085449219</td>\n",
       "      <td>347.2699890136719</td>\n",
       "      <td>331.3900146484375</td>\n",
       "      <td>331.8999938964844</td>\n",
       "      <td>97113400</td>\n",
       "    </tr>\n",
       "    <tr>\n",
       "      <th>1357</th>\n",
       "      <td>2025-05-23</td>\n",
       "      <td>339.3399963378906</td>\n",
       "      <td>343.17999267578125</td>\n",
       "      <td>333.2099914550781</td>\n",
       "      <td>337.9200134277344</td>\n",
       "      <td>84439200</td>\n",
       "    </tr>\n",
       "  </tbody>\n",
       "</table>\n",
       "<p>1358 rows × 6 columns</p>\n",
       "</div>"
      ],
      "text/plain": [
       "           Price               Close                High                 Low  \\\n",
       "0         Ticker                TSLA                TSLA                TSLA   \n",
       "1           Date                 NaN                 NaN                 NaN   \n",
       "2     2020-01-02   28.68400001525879  28.713333129882812   28.11400032043457   \n",
       "3     2020-01-03  29.534000396728516  30.266666412353516  29.128000259399414   \n",
       "4     2020-01-06    30.1026668548584  30.104000091552734  29.333332061767578   \n",
       "...          ...                 ...                 ...                 ...   \n",
       "1353  2025-05-19   342.0899963378906               343.0   333.3699951171875   \n",
       "1354  2025-05-20  343.82000732421875    354.989990234375   341.6300048828125   \n",
       "1355  2025-05-21   334.6199951171875   347.3500061035156  332.20001220703125   \n",
       "1356  2025-05-22   341.0400085449219   347.2699890136719   331.3900146484375   \n",
       "1357  2025-05-23   339.3399963378906  343.17999267578125   333.2099914550781   \n",
       "\n",
       "                    Open     Volume  \n",
       "0                   TSLA       TSLA  \n",
       "1                    NaN        NaN  \n",
       "2     28.299999237060547  142981500  \n",
       "3     29.366666793823242  266677500  \n",
       "4     29.364667892456055  151995000  \n",
       "...                  ...        ...  \n",
       "1353  336.29998779296875   88869900  \n",
       "1354   347.8699951171875  131715500  \n",
       "1355  344.42999267578125  102354800  \n",
       "1356   331.8999938964844   97113400  \n",
       "1357   337.9200134277344   84439200  \n",
       "\n",
       "[1358 rows x 6 columns]"
      ]
     },
     "execution_count": 21,
     "metadata": {},
     "output_type": "execute_result"
    }
   ],
   "source": [
    "# Đọc file CSV\n",
    "df = pd.read_csv(\"../data/raw/TSLA_2020-01-01_2025-05-27.csv\")\n",
    "\n",
    "# Xem vài dòng đầu\n",
    "df"
   ]
  },
  {
   "cell_type": "code",
   "execution_count": null,
   "id": "0ff0969f",
   "metadata": {},
   "outputs": [],
   "source": [
    "df_clean = df.drop(index=[0, 1])"
   ]
  },
  {
   "cell_type": "code",
   "execution_count": 26,
   "id": "a7d8db03",
   "metadata": {},
   "outputs": [
    {
     "data": {
      "image/png": "[encoded data removed]",
      "text/plain": [
       "<Figure size 1400x600 with 1 Axes>"
      ]
     },
     "metadata": {},
     "output_type": "display_data"
    }
   ],
   "source": [
    "plt.figure(figsize=(14, 6))\n",
    "plt.plot(df_clean.index, df_clean['Close'], label='Close Price', color='blue')\n",
    "\n",
    "plt.title(\"TSLA Closing Price (2020–2025)\")\n",
    "plt.xlabel(\"Date\")\n",
    "plt.ylabel(\"Price (USD)\")\n",
    "plt.legend()\n",
    "plt.grid(True)\n",
    "plt.tight_layout()\n",
    "plt.show()\n"
   ]
  },
  {
   "cell_type": "code",
   "execution_count": null,
   "id": "a5b69f18",
   "metadata": {},
   "outputs": [],
   "source": [
    "# Giữ lại các cột số\n",
    "df_numerical = df.select_dtypes(include=['float64', 'int64'])\n",
    "\n",
    "# Tính ma trận tương quan\n",
    "corr_matrix = df_numerical.corr()\n",
    "\n",
    "# Vẽ heatmap\n",
    "plt.figure(figsize=(10, 8))\n",
    "sns.heatmap(corr_matrix, annot=True, cmap='coolwarm', fmt=\".2f\")\n",
    "plt.title(\"Correlation Matrix of TSLA Stock Features\")\n",
    "plt.tight_layout()\n",
    "plt.show()\n"
   ]
  }
 ],
 "metadata": {
  "kernelspec": {
   "display_name": "Python 3",
   "language": "python",
   "name": "python3"
  },
  "language_info": {
   "codemirror_mode": {
    "name": "ipython",
    "version": 3
   },
   "file_extension": ".py",
   "mimetype": "text/x-python",
   "name": "python",
   "nbconvert_exporter": "python",
   "pygments_lexer": "ipython3",
   "version": "3.11.9"
  }
 },
 "nbformat": 4,
 "nbformat_minor": 5
}
